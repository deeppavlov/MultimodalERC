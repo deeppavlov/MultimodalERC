{
 "cells": [
  {
   "cell_type": "code",
   "execution_count": 12,
   "id": "a292868b",
   "metadata": {},
   "outputs": [],
   "source": [
    "from transformers import BertTokenizer, BertForSequenceClassification\n",
    "from transformers import AutoTokenizer, AutoModelForSequenceClassification\n",
    "\n",
    "import torch\n",
    "import random\n",
    "import numpy as np\n",
    "\n",
    "from models import EmotionClassificationModel\n",
    "from utils import prepare_data, test, freeze_all, freeze_except_last_two"
   ]
  },
  {
   "cell_type": "code",
   "execution_count": 4,
   "id": "aae43225",
   "metadata": {},
   "outputs": [
    {
     "name": "stderr",
     "output_type": "stream",
     "text": [
      "Failed to detect the name of this notebook, you can set it manually with the WANDB_NOTEBOOK_NAME environment variable to enable code saving.\n",
      "\u001b[34m\u001b[1mwandb\u001b[0m: Currently logged in as: \u001b[33myashkens\u001b[0m. Use \u001b[1m`wandb login --relogin`\u001b[0m to force relogin\n"
     ]
    },
    {
     "data": {
      "text/plain": [
       "True"
      ]
     },
     "execution_count": 4,
     "metadata": {},
     "output_type": "execute_result"
    }
   ],
   "source": [
    "import wandb\n",
    "\n",
    "wandb.login()"
   ]
  },
  {
   "cell_type": "markdown",
   "id": "32923f44",
   "metadata": {},
   "source": [
    "### Sweep Config"
   ]
  },
  {
   "cell_type": "code",
   "execution_count": 5,
   "id": "8df8f48d",
   "metadata": {},
   "outputs": [],
   "source": [
    "sweep_config = {'method': 'grid'}\n",
    "\n",
    "metric = {\n",
    "    'name': 'val F1',\n",
    "    'goal': 'maximize'   \n",
    "    }\n",
    "\n",
    "sweep_config['metric'] = metric"
   ]
  },
  {
   "cell_type": "code",
   "execution_count": 6,
   "id": "52be8f3b",
   "metadata": {},
   "outputs": [],
   "source": [
    "# variable parameters\n",
    "parameters_dict = {\n",
    "        'context_first': {\n",
    "            'values': [True, False]\n",
    "        },\n",
    "        'context_length': {\n",
    "            'values': [0, 1, 2, 3]\n",
    "        },\n",
    "        'separator': {\n",
    "            'values': ['[SEP]', '@', '#']\n",
    "        }\n",
    "}\n",
    "\n",
    "sweep_config['parameters'] = parameters_dict"
   ]
  },
  {
   "cell_type": "code",
   "execution_count": 7,
   "id": "af9ed580",
   "metadata": {},
   "outputs": [],
   "source": [
    "# constant parameters\n",
    "parameters_dict.update({\n",
    "    'epochs': {\n",
    "        'value': 3\n",
    "    },\n",
    "    'lr': {\n",
    "        'value': 1e-05\n",
    "    },\n",
    "    'batch_size': {\n",
    "        'value': 32\n",
    "    },\n",
    "    'data': {\n",
    "        'value': 'MeldCSV/'\n",
    "    },\n",
    "    'freezing': {\n",
    "        'value': 'partial'\n",
    "    },\n",
    "    'seed': {\n",
    "        'value': 42\n",
    "    },\n",
    "    'max_length': {\n",
    "        'value': 128\n",
    "    },\n",
    "    'tokenizer': {\n",
    "        'value': 'bert-base-uncased'\n",
    "    },\n",
    "    'model': {\n",
    "        'value': 'bert-base-uncased'\n",
    "    }\n",
    "})"
   ]
  },
  {
   "cell_type": "code",
   "execution_count": 8,
   "id": "717f03e2",
   "metadata": {},
   "outputs": [
    {
     "name": "stdout",
     "output_type": "stream",
     "text": [
      "Create sweep with ID: qbvq1pj4\n",
      "Sweep URL: https://wandb.ai/yashkens/sweep-with-testing/sweeps/qbvq1pj4\n"
     ]
    }
   ],
   "source": [
    "sweep_id = wandb.sweep(sweep_config, project=\"emotion-lines-on-bert\")"
   ]
  },
  {
   "cell_type": "markdown",
   "id": "03568ea4",
   "metadata": {},
   "source": [
    "### Train"
   ]
  },
  {
   "cell_type": "code",
   "execution_count": 17,
   "id": "b2674693",
   "metadata": {},
   "outputs": [],
   "source": [
    "def train_net(config=None):\n",
    "    with wandb.init(config=config) as run:\n",
    "        \n",
    "        config = wandb.config\n",
    "        torch.manual_seed(config.seed)\n",
    "        random.seed(config.seed)\n",
    "        np.random.seed(config.seed)\n",
    "        \n",
    "        name_str = f\"{config.context_length}_context-first-{config.context_first}\"\n",
    "        run.name = name_str\n",
    "        \n",
    "        tokenizer = BertTokenizer.from_pretrained(config.tokenizer)\n",
    "        \n",
    "        data_path = '/content/drive/MyDrive/' + config.data\n",
    "        num_labels, train_dataloader, test_dataloader, dev_dataloader, test_dataset = prepare_data(tokenizer, \n",
    "                                                                                                   data_path, \n",
    "                                                                                                   config.batch_size,\n",
    "                                                                                                   max_len=config.max_length,\n",
    "                                                                                                   n_context=config.context_length,\n",
    "                                                                                                   sep=config.separator,\n",
    "                                                                                                   context_first=config.context_first)\n",
    "        \n",
    "        model = BertForSequenceClassification.from_pretrained(\n",
    "            config.model,\n",
    "            num_labels = num_labels\n",
    "        )\n",
    "        \n",
    "        model = freeze_except_last_two(model)\n",
    "        \n",
    "        optimizer = torch.optim.Adam(params=model.parameters(), lr=config.lr)\n",
    "        device = 'cuda'\n",
    "        answer_model = EmotionClassificationModel(model, device=device)\n",
    "        \n",
    "        patience = 3\n",
    "        answer_model.train(train_dataloader, dev_dataloader, config.epochs, optimizer, patience)\n",
    "        \n",
    "        test_fscore = test(test_dataset, answer_model)\n",
    "        wandb.log({\"test F1\": test_fscore})"
   ]
  },
  {
   "cell_type": "code",
   "execution_count": 18,
   "id": "3f04e24e",
   "metadata": {},
   "outputs": [
    {
     "name": "stderr",
     "output_type": "stream",
     "text": [
      "\u001b[34m\u001b[1mwandb\u001b[0m: Agent Starting Run: 4vfrlxxw with config:\n",
      "\u001b[34m\u001b[1mwandb\u001b[0m: \tbatch_size: 32\n",
      "\u001b[34m\u001b[1mwandb\u001b[0m: \tdata: MeldCSV/\n",
      "\u001b[34m\u001b[1mwandb\u001b[0m: \tepochs: 10\n",
      "\u001b[34m\u001b[1mwandb\u001b[0m: \tfreezing: partial\n",
      "\u001b[34m\u001b[1mwandb\u001b[0m: \tlr: 1e-05\n",
      "\u001b[34m\u001b[1mwandb\u001b[0m: \tseed: 42\n"
     ]
    },
    {
     "data": {
      "text/html": [
       "Tracking run with wandb version 0.13.9"
      ],
      "text/plain": [
       "<IPython.core.display.HTML object>"
      ]
     },
     "metadata": {},
     "output_type": "display_data"
    },
    {
     "data": {
      "text/html": [
       "Run data is saved locally in <code>/cephfs/home/yashkens/MultimodalERC/MultimodalERC/text_based/wandb/run-20230119_144321-4vfrlxxw</code>"
      ],
      "text/plain": [
       "<IPython.core.display.HTML object>"
      ]
     },
     "metadata": {},
     "output_type": "display_data"
    },
    {
     "data": {
      "text/html": [
       "Syncing run <strong><a href=\"https://wandb.ai/yashkens/sweep-with-testing/runs/4vfrlxxw\" target=\"_blank\">wise-sweep-7</a></strong> to <a href=\"https://wandb.ai/yashkens/sweep-with-testing\" target=\"_blank\">Weights & Biases</a> (<a href=\"https://wandb.me/run\" target=\"_blank\">docs</a>)<br/>Sweep page: <a href=\"https://wandb.ai/yashkens/sweep-with-testing/sweeps/qbvq1pj4\" target=\"_blank\">https://wandb.ai/yashkens/sweep-with-testing/sweeps/qbvq1pj4</a>"
      ],
      "text/plain": [
       "<IPython.core.display.HTML object>"
      ]
     },
     "metadata": {},
     "output_type": "display_data"
    },
    {
     "data": {
      "text/html": [
       " View project at <a href=\"https://wandb.ai/yashkens/sweep-with-testing\" target=\"_blank\">https://wandb.ai/yashkens/sweep-with-testing</a>"
      ],
      "text/plain": [
       "<IPython.core.display.HTML object>"
      ]
     },
     "metadata": {},
     "output_type": "display_data"
    },
    {
     "data": {
      "text/html": [
       " View sweep at <a href=\"https://wandb.ai/yashkens/sweep-with-testing/sweeps/qbvq1pj4\" target=\"_blank\">https://wandb.ai/yashkens/sweep-with-testing/sweeps/qbvq1pj4</a>"
      ],
      "text/plain": [
       "<IPython.core.display.HTML object>"
      ]
     },
     "metadata": {},
     "output_type": "display_data"
    },
    {
     "data": {
      "text/html": [
       " View run at <a href=\"https://wandb.ai/yashkens/sweep-with-testing/runs/4vfrlxxw\" target=\"_blank\">https://wandb.ai/yashkens/sweep-with-testing/runs/4vfrlxxw</a>"
      ],
      "text/plain": [
       "<IPython.core.display.HTML object>"
      ]
     },
     "metadata": {},
     "output_type": "display_data"
    },
    {
     "name": "stderr",
     "output_type": "stream",
     "text": [
      "Some weights of the model checkpoint at bert-base-uncased were not used when initializing BertForSequenceClassification: ['cls.seq_relationship.weight', 'cls.seq_relationship.bias', 'cls.predictions.transform.LayerNorm.bias', 'cls.predictions.decoder.weight', 'cls.predictions.bias', 'cls.predictions.transform.dense.bias', 'cls.predictions.transform.dense.weight', 'cls.predictions.transform.LayerNorm.weight']\n",
      "- This IS expected if you are initializing BertForSequenceClassification from the checkpoint of a model trained on another task or with another architecture (e.g. initializing a BertForSequenceClassification model from a BertForPreTraining model).\n",
      "- This IS NOT expected if you are initializing BertForSequenceClassification from the checkpoint of a model that you expect to be exactly identical (initializing a BertForSequenceClassification model from a BertForSequenceClassification model).\n",
      "Some weights of BertForSequenceClassification were not initialized from the model checkpoint at bert-base-uncased and are newly initialized: ['classifier.bias', 'classifier.weight']\n",
      "You should probably TRAIN this model on a down-stream task to be able to use it for predictions and inference.\n",
      "\u001b[34m\u001b[1mwandb\u001b[0m: Ctrl + C detected. Stopping sweep.\n"
     ]
    }
   ],
   "source": [
    "wandb.agent(sweep_id, train_net)"
   ]
  },
  {
   "cell_type": "code",
   "execution_count": null,
   "id": "e8f814d0",
   "metadata": {},
   "outputs": [],
   "source": []
  }
 ],
 "metadata": {
  "kernelspec": {
   "display_name": "Python 3 (ipykernel)",
   "language": "python",
   "name": "python3"
  },
  "language_info": {
   "codemirror_mode": {
    "name": "ipython",
    "version": 3
   },
   "file_extension": ".py",
   "mimetype": "text/x-python",
   "name": "python",
   "nbconvert_exporter": "python",
   "pygments_lexer": "ipython3",
   "version": "3.9.13"
  }
 },
 "nbformat": 4,
 "nbformat_minor": 5
}
