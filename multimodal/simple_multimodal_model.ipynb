{
  "nbformat": 4,
  "nbformat_minor": 0,
  "metadata": {
    "colab": {
      "provenance": []
    },
    "kernelspec": {
      "name": "python3",
      "display_name": "Python 3"
    },
    "language_info": {
      "name": "python"
    }
  },
  "cells": [
    {
      "cell_type": "markdown",
      "source": [
        "## Данные\n",
        "\n",
        "Тут - https://drive.google.com/drive/folders/1Kj9Nk2e1ncV2WYSbfXkL0khBWYLwRoPx?usp=sharing\n",
        "\n",
        "...или тут - /cephfs/home/mikhaylova/multimodal_emo_reco/MELD_csv/\n",
        "\n",
        "---\n",
        "Столбцы:\n",
        "* таргет_эмоция_число\n",
        "* таргет_эмоция_категория\n",
        "* текст_предсказ_эмоция_вероятности\n",
        "* аудио_предсказ_эмоция_вероятности\n",
        "* видео_предсказ_эмоция_вероятности\n",
        "---\n",
        "\n",
        "Обучающая: **9989**\n",
        "\n",
        "Тестовая: **2610**\n",
        "\n",
        "Валидационная: **1109**\n",
        "\n",
        "! *Если видео отсутствовало - предсказание равновероятно для каждого из классов*"
      ],
      "metadata": {
        "id": "lkXCJVfktqz_"
      }
    },
    {
      "cell_type": "markdown",
      "source": [
        "## Wandb"
      ],
      "metadata": {
        "id": "UhUgZyVjaIJf"
      }
    },
    {
      "cell_type": "code",
      "source": [
        "! pip install wandb"
      ],
      "metadata": {
        "id": "-xiwN5z4Z1ui"
      },
      "execution_count": null,
      "outputs": []
    },
    {
      "cell_type": "code",
      "source": [
        "import wandb\n",
        "\n",
        "wandb.login()"
      ],
      "metadata": {
        "id": "g3wew1I-RoB5",
        "colab": {
          "base_uri": "https://localhost:8080/",
          "height": 69
        },
        "outputId": "038be075-8b84-4524-b58c-c88c5fe1892b"
      },
      "execution_count": 4,
      "outputs": [
        {
          "output_type": "display_data",
          "data": {
            "text/plain": [
              "<IPython.core.display.Javascript object>"
            ],
            "application/javascript": [
              "\n",
              "        window._wandbApiKey = new Promise((resolve, reject) => {\n",
              "            function loadScript(url) {\n",
              "            return new Promise(function(resolve, reject) {\n",
              "                let newScript = document.createElement(\"script\");\n",
              "                newScript.onerror = reject;\n",
              "                newScript.onload = resolve;\n",
              "                document.body.appendChild(newScript);\n",
              "                newScript.src = url;\n",
              "            });\n",
              "            }\n",
              "            loadScript(\"https://cdn.jsdelivr.net/npm/postmate/build/postmate.min.js\").then(() => {\n",
              "            const iframe = document.createElement('iframe')\n",
              "            iframe.style.cssText = \"width:0;height:0;border:none\"\n",
              "            document.body.appendChild(iframe)\n",
              "            const handshake = new Postmate({\n",
              "                container: iframe,\n",
              "                url: 'https://wandb.ai/authorize'\n",
              "            });\n",
              "            const timeout = setTimeout(() => reject(\"Couldn't auto authenticate\"), 5000)\n",
              "            handshake.then(function(child) {\n",
              "                child.on('authorize', data => {\n",
              "                    clearTimeout(timeout)\n",
              "                    resolve(data)\n",
              "                });\n",
              "            });\n",
              "            })\n",
              "        });\n",
              "    "
            ]
          },
          "metadata": {}
        },
        {
          "output_type": "stream",
          "name": "stderr",
          "text": [
            "\u001b[34m\u001b[1mwandb\u001b[0m: Appending key for api.wandb.ai to your netrc file: /root/.netrc\n"
          ]
        },
        {
          "output_type": "execute_result",
          "data": {
            "text/plain": [
              "True"
            ]
          },
          "metadata": {},
          "execution_count": 4
        }
      ]
    },
    {
      "cell_type": "code",
      "source": [
        "sweep_config = {'method': 'grid'}\n",
        "\n",
        "metric = {\n",
        "    'name': 'val F1',\n",
        "    'goal': 'maximize'   \n",
        "    }\n",
        "\n",
        "sweep_config['metric'] = metric"
      ],
      "metadata": {
        "id": "DOSDTOnXaDt8"
      },
      "execution_count": 5,
      "outputs": []
    },
    {
      "cell_type": "code",
      "source": [
        "# variable parameters\n",
        "parameters_dict = {\n",
        "        'lr': {\n",
        "            'values': [1e-03, 1e-04]\n",
        "        },\n",
        "        'seed': {\n",
        "            'values': [13, 42, 100, 47]\n",
        "        }\n",
        "}\n",
        "\n",
        "sweep_config['parameters'] = parameters_dict"
      ],
      "metadata": {
        "id": "1xWQnPgeaOna"
      },
      "execution_count": 6,
      "outputs": []
    },
    {
      "cell_type": "code",
      "source": [
        "parameters_dict.update({\n",
        "    'epochs': {\n",
        "        'value': 10\n",
        "    },\n",
        "    'batch_size': {\n",
        "        'value': 4\n",
        "    },\n",
        "})"
      ],
      "metadata": {
        "id": "j1gbysxIaSId"
      },
      "execution_count": 7,
      "outputs": []
    },
    {
      "cell_type": "code",
      "source": [
        "sweep_id = wandb.sweep(sweep_config, project=\"simple-multimodal-model\")"
      ],
      "metadata": {
        "id": "X6domAsHbEsj",
        "colab": {
          "base_uri": "https://localhost:8080/"
        },
        "outputId": "1bf78926-37d8-41e4-d63b-261786c38cf2"
      },
      "execution_count": 8,
      "outputs": [
        {
          "output_type": "stream",
          "name": "stdout",
          "text": [
            "Create sweep with ID: j8a5507j\n",
            "Sweep URL: https://wandb.ai/annette-mikhaylova/simple-multimodal-model/sweeps/j8a5507j\n"
          ]
        }
      ]
    },
    {
      "cell_type": "markdown",
      "source": [
        "## Model architecture"
      ],
      "metadata": {
        "id": "YG3VmibEP--u"
      }
    },
    {
      "cell_type": "code",
      "source": [
        "import torch.nn as nn\n",
        "import torch\n",
        "\n",
        "\n",
        "class Network(nn.Module):\n",
        "  def __init__(self):\n",
        "    super(Network, self).__init__()\n",
        "\n",
        "    # number of features (len of X cols)\n",
        "    input_dim = 21\n",
        "    # number of hidden layers\n",
        "    hidden_layers = 64\n",
        "    # number of classes (unique of y)\n",
        "    output_dim = 7\n",
        "    \n",
        "    self.linear1 = nn.Linear(input_dim, hidden_layers)\n",
        "    self.linear2 = nn.Linear(hidden_layers, output_dim)\n",
        "    self.drop_out = nn.Dropout(0.2)\n",
        "\n",
        "  def forward(self, x):\n",
        "    x = torch.sigmoid(self.linear1(x))\n",
        "    x = self.drop_out(x)\n",
        "    x = self.linear2(x)\n",
        "    return x"
      ],
      "metadata": {
        "id": "Y6CxbVdew-Zd"
      },
      "execution_count": 9,
      "outputs": []
    },
    {
      "cell_type": "markdown",
      "source": [
        "## Training with Wandb"
      ],
      "metadata": {
        "id": "wENipkHuHSzq"
      }
    },
    {
      "cell_type": "code",
      "source": [
        "import numpy as np\n",
        "import random\n",
        "from sklearn.metrics import f1_score\n",
        "\n",
        "from loading_model_logits import prepare_data\n",
        "from utils import Data\n",
        "from training_model import train, get_preds\n",
        "\n",
        "def train_net(config=None):\n",
        "    with wandb.init(config=config) as run:\n",
        "\n",
        "        config = wandb.config\n",
        "        torch.manual_seed(config.seed)\n",
        "        random.seed(config.seed)\n",
        "        np.random.seed(config.seed)\n",
        "\n",
        "        epochs = config.epochs\n",
        "        name_str = f\"2lay_{config.seed}_lr-{config.lr}\"\n",
        "        run.name = name_str\n",
        "\n",
        "        X_train, y_train, X_dev, y_dev, X_test, y_test = prepare_data(\n",
        "            '/content/drive/MyDrive/MeldCSV/'\n",
        "            )\n",
        "        train_data, dev_data, test_data =   Data(X_train, y_train),\\\n",
        "                                            Data(X_dev, y_dev), \\\n",
        "                                            Data(X_test, y_test)\n",
        "\n",
        "        trainloader = DataLoader(train_data, batch_size=config.batch_size, \n",
        "                                 shuffle=True, num_workers=2)\n",
        "        devloader = DataLoader(dev_data, batch_size=config.batch_size, \n",
        "                               shuffle=True, num_workers=2)\n",
        "        testloader = DataLoader(test_data, batch_size=config.batch_size, \n",
        "                               shuffle=True, num_workers=2)\n",
        "\n",
        "        net = Network()\n",
        "        optimizer = torch.optim.Adam(net.parameters(), lr=config.lr)\n",
        "        loss_fn = torch.nn.CrossEntropyLoss()\n",
        "\n",
        "        train(epochs, net, trainloader, devloader, optimizer, loss_fn, 3)\n",
        "\n",
        "        test_pred = get_preds(X_test, y_test, net)\n",
        "        f1 = f1_score(y_test.cpu().numpy(), test_pred.cpu().numpy(), \n",
        "                              average='weighted')\n",
        "        wandb.log({\"test f1\": f1})"
      ],
      "metadata": {
        "id": "KmVtp2i91GPa"
      },
      "execution_count": 11,
      "outputs": []
    },
    {
      "cell_type": "code",
      "source": [
        "wandb.agent(sweep_id, train_net)"
      ],
      "metadata": {
        "colab": {
          "base_uri": "https://localhost:8080/",
          "height": 1000
        },
        "id": "ZkeT3NJUY_oH",
        "outputId": "87c36875-6367-4cba-a793-2b2fcd22441e"
      },
      "execution_count": 12,
      "outputs": [
        {
          "output_type": "stream",
          "name": "stderr",
          "text": [
            "\u001b[34m\u001b[1mwandb\u001b[0m: Agent Starting Run: lrjwjo9g with config:\n",
            "\u001b[34m\u001b[1mwandb\u001b[0m: \tbatch_size: 4\n",
            "\u001b[34m\u001b[1mwandb\u001b[0m: \tepochs: 10\n",
            "\u001b[34m\u001b[1mwandb\u001b[0m: \tlr: 0.001\n",
            "\u001b[34m\u001b[1mwandb\u001b[0m: \tseed: 13\n",
            "\u001b[34m\u001b[1mwandb\u001b[0m: Currently logged in as: \u001b[33mannette-mikhaylova\u001b[0m. Use \u001b[1m`wandb login --relogin`\u001b[0m to force relogin\n"
          ]
        },
        {
          "output_type": "display_data",
          "data": {
            "text/plain": [
              "<IPython.core.display.HTML object>"
            ],
            "text/html": [
              "Tracking run with wandb version 0.14.0"
            ]
          },
          "metadata": {}
        },
        {
          "output_type": "display_data",
          "data": {
            "text/plain": [
              "<IPython.core.display.HTML object>"
            ],
            "text/html": [
              "Run data is saved locally in <code>/content/wandb/run-20230322_070241-lrjwjo9g</code>"
            ]
          },
          "metadata": {}
        },
        {
          "output_type": "display_data",
          "data": {
            "text/plain": [
              "<IPython.core.display.HTML object>"
            ],
            "text/html": [
              "Syncing run <strong><a href='https://wandb.ai/annette-mikhaylova/simple-multimodal-model/runs/lrjwjo9g' target=\"_blank\">valiant-sweep-1</a></strong> to <a href='https://wandb.ai/annette-mikhaylova/simple-multimodal-model' target=\"_blank\">Weights & Biases</a> (<a href='https://wandb.me/run' target=\"_blank\">docs</a>)<br/>Sweep page: <a href='https://wandb.ai/annette-mikhaylova/simple-multimodal-model/sweeps/j8a5507j' target=\"_blank\">https://wandb.ai/annette-mikhaylova/simple-multimodal-model/sweeps/j8a5507j</a>"
            ]
          },
          "metadata": {}
        },
        {
          "output_type": "display_data",
          "data": {
            "text/plain": [
              "<IPython.core.display.HTML object>"
            ],
            "text/html": [
              " View project at <a href='https://wandb.ai/annette-mikhaylova/simple-multimodal-model' target=\"_blank\">https://wandb.ai/annette-mikhaylova/simple-multimodal-model</a>"
            ]
          },
          "metadata": {}
        },
        {
          "output_type": "display_data",
          "data": {
            "text/plain": [
              "<IPython.core.display.HTML object>"
            ],
            "text/html": [
              " View sweep at <a href='https://wandb.ai/annette-mikhaylova/simple-multimodal-model/sweeps/j8a5507j' target=\"_blank\">https://wandb.ai/annette-mikhaylova/simple-multimodal-model/sweeps/j8a5507j</a>"
            ]
          },
          "metadata": {}
        },
        {
          "output_type": "display_data",
          "data": {
            "text/plain": [
              "<IPython.core.display.HTML object>"
            ],
            "text/html": [
              " View run at <a href='https://wandb.ai/annette-mikhaylova/simple-multimodal-model/runs/lrjwjo9g' target=\"_blank\">https://wandb.ai/annette-mikhaylova/simple-multimodal-model/runs/lrjwjo9g</a>"
            ]
          },
          "metadata": {}
        },
        {
          "output_type": "display_data",
          "data": {
            "text/plain": [
              "<IPython.core.display.HTML object>"
            ],
            "text/html": [
              "Waiting for W&B process to finish... <strong style=\"color:green\">(success).</strong>"
            ]
          },
          "metadata": {}
        },
        {
          "output_type": "display_data",
          "data": {
            "text/plain": [
              "<IPython.core.display.HTML object>"
            ],
            "text/html": [
              "<style>\n",
              "    table.wandb td:nth-child(1) { padding: 0 10px; text-align: left ; width: auto;} td:nth-child(2) {text-align: left ; width: 100%}\n",
              "    .wandb-row { display: flex; flex-direction: row; flex-wrap: wrap; justify-content: flex-start; width: 100% }\n",
              "    .wandb-col { display: flex; flex-direction: column; flex-basis: 100%; flex: 1; padding: 10px; }\n",
              "    </style>\n",
              "<div class=\"wandb-row\"><div class=\"wandb-col\"><h3>Run history:</h3><br/><table class=\"wandb\"><tr><td>batch train loss</td><td>▇▅▅▅▁▂▇▃▅▂▁▄▁▁▂▂▄▂█▃▇▅▃▂▄▁▂▃▁▁▂▃▁▂▄▄▅▂▁▁</td></tr><tr><td>epoch</td><td>▁▂▄▅▇█</td></tr><tr><td>test f1</td><td>▁</td></tr><tr><td>train F1</td><td>▁▇████</td></tr><tr><td>train loss</td><td>█▃▂▁▁▁</td></tr><tr><td>val F1</td><td>▁▅█▄▂▅</td></tr><tr><td>val loss</td><td>█▃▂▂▁▁</td></tr></table><br/></div><div class=\"wandb-col\"><h3>Run summary:</h3><br/><table class=\"wandb\"><tr><td>batch train loss</td><td>1.2123</td></tr><tr><td>epoch</td><td>5</td></tr><tr><td>test f1</td><td>0.62807</td></tr><tr><td>train F1</td><td>0.84488</td></tr><tr><td>train loss</td><td>1.31042</td></tr><tr><td>val F1</td><td>0.5833</td></tr><tr><td>val loss</td><td>1.52358</td></tr></table><br/></div></div>"
            ]
          },
          "metadata": {}
        },
        {
          "output_type": "display_data",
          "data": {
            "text/plain": [
              "<IPython.core.display.HTML object>"
            ],
            "text/html": [
              " View run <strong style=\"color:#cdcd00\">valiant-sweep-1</strong> at: <a href='https://wandb.ai/annette-mikhaylova/simple-multimodal-model/runs/lrjwjo9g' target=\"_blank\">https://wandb.ai/annette-mikhaylova/simple-multimodal-model/runs/lrjwjo9g</a><br/>Synced 4 W&B file(s), 0 media file(s), 0 artifact file(s) and 0 other file(s)"
            ]
          },
          "metadata": {}
        },
        {
          "output_type": "display_data",
          "data": {
            "text/plain": [
              "<IPython.core.display.HTML object>"
            ],
            "text/html": [
              "Find logs at: <code>./wandb/run-20230322_070241-lrjwjo9g/logs</code>"
            ]
          },
          "metadata": {}
        },
        {
          "output_type": "stream",
          "name": "stderr",
          "text": [
            "\u001b[34m\u001b[1mwandb\u001b[0m: Agent Starting Run: uuygl3io with config:\n",
            "\u001b[34m\u001b[1mwandb\u001b[0m: \tbatch_size: 4\n",
            "\u001b[34m\u001b[1mwandb\u001b[0m: \tepochs: 10\n",
            "\u001b[34m\u001b[1mwandb\u001b[0m: \tlr: 0.001\n",
            "\u001b[34m\u001b[1mwandb\u001b[0m: \tseed: 42\n"
          ]
        },
        {
          "output_type": "display_data",
          "data": {
            "text/plain": [
              "<IPython.core.display.HTML object>"
            ],
            "text/html": [
              "Tracking run with wandb version 0.14.0"
            ]
          },
          "metadata": {}
        },
        {
          "output_type": "display_data",
          "data": {
            "text/plain": [
              "<IPython.core.display.HTML object>"
            ],
            "text/html": [
              "Run data is saved locally in <code>/content/wandb/run-20230322_070520-uuygl3io</code>"
            ]
          },
          "metadata": {}
        },
        {
          "output_type": "display_data",
          "data": {
            "text/plain": [
              "<IPython.core.display.HTML object>"
            ],
            "text/html": [
              "Syncing run <strong><a href='https://wandb.ai/annette-mikhaylova/simple-multimodal-model/runs/uuygl3io' target=\"_blank\">swift-sweep-2</a></strong> to <a href='https://wandb.ai/annette-mikhaylova/simple-multimodal-model' target=\"_blank\">Weights & Biases</a> (<a href='https://wandb.me/run' target=\"_blank\">docs</a>)<br/>Sweep page: <a href='https://wandb.ai/annette-mikhaylova/simple-multimodal-model/sweeps/j8a5507j' target=\"_blank\">https://wandb.ai/annette-mikhaylova/simple-multimodal-model/sweeps/j8a5507j</a>"
            ]
          },
          "metadata": {}
        },
        {
          "output_type": "display_data",
          "data": {
            "text/plain": [
              "<IPython.core.display.HTML object>"
            ],
            "text/html": [
              " View project at <a href='https://wandb.ai/annette-mikhaylova/simple-multimodal-model' target=\"_blank\">https://wandb.ai/annette-mikhaylova/simple-multimodal-model</a>"
            ]
          },
          "metadata": {}
        },
        {
          "output_type": "display_data",
          "data": {
            "text/plain": [
              "<IPython.core.display.HTML object>"
            ],
            "text/html": [
              " View sweep at <a href='https://wandb.ai/annette-mikhaylova/simple-multimodal-model/sweeps/j8a5507j' target=\"_blank\">https://wandb.ai/annette-mikhaylova/simple-multimodal-model/sweeps/j8a5507j</a>"
            ]
          },
          "metadata": {}
        },
        {
          "output_type": "display_data",
          "data": {
            "text/plain": [
              "<IPython.core.display.HTML object>"
            ],
            "text/html": [
              " View run at <a href='https://wandb.ai/annette-mikhaylova/simple-multimodal-model/runs/uuygl3io' target=\"_blank\">https://wandb.ai/annette-mikhaylova/simple-multimodal-model/runs/uuygl3io</a>"
            ]
          },
          "metadata": {}
        },
        {
          "output_type": "display_data",
          "data": {
            "text/plain": [
              "<IPython.core.display.HTML object>"
            ],
            "text/html": [
              "Waiting for W&B process to finish... <strong style=\"color:green\">(success).</strong>"
            ]
          },
          "metadata": {}
        },
        {
          "output_type": "display_data",
          "data": {
            "text/plain": [
              "<IPython.core.display.HTML object>"
            ],
            "text/html": [
              "<style>\n",
              "    table.wandb td:nth-child(1) { padding: 0 10px; text-align: left ; width: auto;} td:nth-child(2) {text-align: left ; width: 100%}\n",
              "    .wandb-row { display: flex; flex-direction: row; flex-wrap: wrap; justify-content: flex-start; width: 100% }\n",
              "    .wandb-col { display: flex; flex-direction: column; flex-basis: 100%; flex: 1; padding: 10px; }\n",
              "    </style>\n",
              "<div class=\"wandb-row\"><div class=\"wandb-col\"><h3>Run history:</h3><br/><table class=\"wandb\"><tr><td>batch train loss</td><td>█▃▄▂▄▆▄▁▂▁▄▅▁▁▁▁▄▃▃▁▃▂▂▄▁▂▁▄▁▃▁▂▃▁▁▄▂▅▁▄</td></tr><tr><td>epoch</td><td>▁▂▃▅▆▇█</td></tr><tr><td>test f1</td><td>▁</td></tr><tr><td>train F1</td><td>▁▇▇████</td></tr><tr><td>train loss</td><td>█▃▂▂▁▁▁</td></tr><tr><td>val F1</td><td>▁▂█▅▇▃▇</td></tr><tr><td>val loss</td><td>█▄▂▁▂▁▂</td></tr></table><br/></div><div class=\"wandb-col\"><h3>Run summary:</h3><br/><table class=\"wandb\"><tr><td>batch train loss</td><td>1.16566</td></tr><tr><td>epoch</td><td>6</td></tr><tr><td>test f1</td><td>0.62865</td></tr><tr><td>train F1</td><td>0.84838</td></tr><tr><td>train loss</td><td>1.30757</td></tr><tr><td>val F1</td><td>0.5846</td></tr><tr><td>val loss</td><td>1.52705</td></tr></table><br/></div></div>"
            ]
          },
          "metadata": {}
        },
        {
          "output_type": "display_data",
          "data": {
            "text/plain": [
              "<IPython.core.display.HTML object>"
            ],
            "text/html": [
              " View run <strong style=\"color:#cdcd00\">swift-sweep-2</strong> at: <a href='https://wandb.ai/annette-mikhaylova/simple-multimodal-model/runs/uuygl3io' target=\"_blank\">https://wandb.ai/annette-mikhaylova/simple-multimodal-model/runs/uuygl3io</a><br/>Synced 4 W&B file(s), 0 media file(s), 0 artifact file(s) and 0 other file(s)"
            ]
          },
          "metadata": {}
        },
        {
          "output_type": "display_data",
          "data": {
            "text/plain": [
              "<IPython.core.display.HTML object>"
            ],
            "text/html": [
              "Find logs at: <code>./wandb/run-20230322_070520-uuygl3io/logs</code>"
            ]
          },
          "metadata": {}
        },
        {
          "output_type": "stream",
          "name": "stderr",
          "text": [
            "\u001b[34m\u001b[1mwandb\u001b[0m: Agent Starting Run: i1nlc5k5 with config:\n",
            "\u001b[34m\u001b[1mwandb\u001b[0m: \tbatch_size: 4\n",
            "\u001b[34m\u001b[1mwandb\u001b[0m: \tepochs: 10\n",
            "\u001b[34m\u001b[1mwandb\u001b[0m: \tlr: 0.001\n",
            "\u001b[34m\u001b[1mwandb\u001b[0m: \tseed: 100\n"
          ]
        },
        {
          "output_type": "display_data",
          "data": {
            "text/plain": [
              "<IPython.core.display.HTML object>"
            ],
            "text/html": [
              "Tracking run with wandb version 0.14.0"
            ]
          },
          "metadata": {}
        },
        {
          "output_type": "display_data",
          "data": {
            "text/plain": [
              "<IPython.core.display.HTML object>"
            ],
            "text/html": [
              "Run data is saved locally in <code>/content/wandb/run-20230322_070809-i1nlc5k5</code>"
            ]
          },
          "metadata": {}
        },
        {
          "output_type": "display_data",
          "data": {
            "text/plain": [
              "<IPython.core.display.HTML object>"
            ],
            "text/html": [
              "Syncing run <strong><a href='https://wandb.ai/annette-mikhaylova/simple-multimodal-model/runs/i1nlc5k5' target=\"_blank\">icy-sweep-3</a></strong> to <a href='https://wandb.ai/annette-mikhaylova/simple-multimodal-model' target=\"_blank\">Weights & Biases</a> (<a href='https://wandb.me/run' target=\"_blank\">docs</a>)<br/>Sweep page: <a href='https://wandb.ai/annette-mikhaylova/simple-multimodal-model/sweeps/j8a5507j' target=\"_blank\">https://wandb.ai/annette-mikhaylova/simple-multimodal-model/sweeps/j8a5507j</a>"
            ]
          },
          "metadata": {}
        },
        {
          "output_type": "display_data",
          "data": {
            "text/plain": [
              "<IPython.core.display.HTML object>"
            ],
            "text/html": [
              " View project at <a href='https://wandb.ai/annette-mikhaylova/simple-multimodal-model' target=\"_blank\">https://wandb.ai/annette-mikhaylova/simple-multimodal-model</a>"
            ]
          },
          "metadata": {}
        },
        {
          "output_type": "display_data",
          "data": {
            "text/plain": [
              "<IPython.core.display.HTML object>"
            ],
            "text/html": [
              " View sweep at <a href='https://wandb.ai/annette-mikhaylova/simple-multimodal-model/sweeps/j8a5507j' target=\"_blank\">https://wandb.ai/annette-mikhaylova/simple-multimodal-model/sweeps/j8a5507j</a>"
            ]
          },
          "metadata": {}
        },
        {
          "output_type": "display_data",
          "data": {
            "text/plain": [
              "<IPython.core.display.HTML object>"
            ],
            "text/html": [
              " View run at <a href='https://wandb.ai/annette-mikhaylova/simple-multimodal-model/runs/i1nlc5k5' target=\"_blank\">https://wandb.ai/annette-mikhaylova/simple-multimodal-model/runs/i1nlc5k5</a>"
            ]
          },
          "metadata": {}
        },
        {
          "output_type": "display_data",
          "data": {
            "text/plain": [
              "<IPython.core.display.HTML object>"
            ],
            "text/html": [
              "Waiting for W&B process to finish... <strong style=\"color:green\">(success).</strong>"
            ]
          },
          "metadata": {}
        },
        {
          "output_type": "display_data",
          "data": {
            "text/plain": [
              "<IPython.core.display.HTML object>"
            ],
            "text/html": [
              "<style>\n",
              "    table.wandb td:nth-child(1) { padding: 0 10px; text-align: left ; width: auto;} td:nth-child(2) {text-align: left ; width: 100%}\n",
              "    .wandb-row { display: flex; flex-direction: row; flex-wrap: wrap; justify-content: flex-start; width: 100% }\n",
              "    .wandb-col { display: flex; flex-direction: column; flex-basis: 100%; flex: 1; padding: 10px; }\n",
              "    </style>\n",
              "<div class=\"wandb-row\"><div class=\"wandb-col\"><h3>Run history:</h3><br/><table class=\"wandb\"><tr><td>batch train loss</td><td>█▂▇▅▅▃▂▄▄▆▂▂▂▁▃▃▁▂▃▁▂▃▄▄▂▅▁▃▂▃▁▄▁▂▁▁▇▁▃▂</td></tr><tr><td>epoch</td><td>▁▃▅▆█</td></tr><tr><td>test f1</td><td>▁</td></tr><tr><td>train F1</td><td>▁▇███</td></tr><tr><td>train loss</td><td>█▃▂▁▁</td></tr><tr><td>val F1</td><td>▁█▅▄▅</td></tr><tr><td>val loss</td><td>█▄▂▁▁</td></tr></table><br/></div><div class=\"wandb-col\"><h3>Run summary:</h3><br/><table class=\"wandb\"><tr><td>batch train loss</td><td>1.21788</td></tr><tr><td>epoch</td><td>4</td></tr><tr><td>test f1</td><td>0.62813</td></tr><tr><td>train F1</td><td>0.8432</td></tr><tr><td>train loss</td><td>1.31378</td></tr><tr><td>val F1</td><td>0.58316</td></tr><tr><td>val loss</td><td>1.52492</td></tr></table><br/></div></div>"
            ]
          },
          "metadata": {}
        },
        {
          "output_type": "display_data",
          "data": {
            "text/plain": [
              "<IPython.core.display.HTML object>"
            ],
            "text/html": [
              " View run <strong style=\"color:#cdcd00\">icy-sweep-3</strong> at: <a href='https://wandb.ai/annette-mikhaylova/simple-multimodal-model/runs/i1nlc5k5' target=\"_blank\">https://wandb.ai/annette-mikhaylova/simple-multimodal-model/runs/i1nlc5k5</a><br/>Synced 4 W&B file(s), 0 media file(s), 0 artifact file(s) and 0 other file(s)"
            ]
          },
          "metadata": {}
        },
        {
          "output_type": "display_data",
          "data": {
            "text/plain": [
              "<IPython.core.display.HTML object>"
            ],
            "text/html": [
              "Find logs at: <code>./wandb/run-20230322_070809-i1nlc5k5/logs</code>"
            ]
          },
          "metadata": {}
        },
        {
          "output_type": "stream",
          "name": "stderr",
          "text": [
            "\u001b[34m\u001b[1mwandb\u001b[0m: Agent Starting Run: owt9po22 with config:\n",
            "\u001b[34m\u001b[1mwandb\u001b[0m: \tbatch_size: 4\n",
            "\u001b[34m\u001b[1mwandb\u001b[0m: \tepochs: 10\n",
            "\u001b[34m\u001b[1mwandb\u001b[0m: \tlr: 0.001\n",
            "\u001b[34m\u001b[1mwandb\u001b[0m: \tseed: 47\n"
          ]
        },
        {
          "output_type": "display_data",
          "data": {
            "text/plain": [
              "<IPython.core.display.HTML object>"
            ],
            "text/html": [
              "Tracking run with wandb version 0.14.0"
            ]
          },
          "metadata": {}
        },
        {
          "output_type": "display_data",
          "data": {
            "text/plain": [
              "<IPython.core.display.HTML object>"
            ],
            "text/html": [
              "Run data is saved locally in <code>/content/wandb/run-20230322_071016-owt9po22</code>"
            ]
          },
          "metadata": {}
        },
        {
          "output_type": "display_data",
          "data": {
            "text/plain": [
              "<IPython.core.display.HTML object>"
            ],
            "text/html": [
              "Syncing run <strong><a href='https://wandb.ai/annette-mikhaylova/simple-multimodal-model/runs/owt9po22' target=\"_blank\">elated-sweep-4</a></strong> to <a href='https://wandb.ai/annette-mikhaylova/simple-multimodal-model' target=\"_blank\">Weights & Biases</a> (<a href='https://wandb.me/run' target=\"_blank\">docs</a>)<br/>Sweep page: <a href='https://wandb.ai/annette-mikhaylova/simple-multimodal-model/sweeps/j8a5507j' target=\"_blank\">https://wandb.ai/annette-mikhaylova/simple-multimodal-model/sweeps/j8a5507j</a>"
            ]
          },
          "metadata": {}
        },
        {
          "output_type": "display_data",
          "data": {
            "text/plain": [
              "<IPython.core.display.HTML object>"
            ],
            "text/html": [
              " View project at <a href='https://wandb.ai/annette-mikhaylova/simple-multimodal-model' target=\"_blank\">https://wandb.ai/annette-mikhaylova/simple-multimodal-model</a>"
            ]
          },
          "metadata": {}
        },
        {
          "output_type": "display_data",
          "data": {
            "text/plain": [
              "<IPython.core.display.HTML object>"
            ],
            "text/html": [
              " View sweep at <a href='https://wandb.ai/annette-mikhaylova/simple-multimodal-model/sweeps/j8a5507j' target=\"_blank\">https://wandb.ai/annette-mikhaylova/simple-multimodal-model/sweeps/j8a5507j</a>"
            ]
          },
          "metadata": {}
        },
        {
          "output_type": "display_data",
          "data": {
            "text/plain": [
              "<IPython.core.display.HTML object>"
            ],
            "text/html": [
              " View run at <a href='https://wandb.ai/annette-mikhaylova/simple-multimodal-model/runs/owt9po22' target=\"_blank\">https://wandb.ai/annette-mikhaylova/simple-multimodal-model/runs/owt9po22</a>"
            ]
          },
          "metadata": {}
        },
        {
          "output_type": "display_data",
          "data": {
            "text/plain": [
              "<IPython.core.display.HTML object>"
            ],
            "text/html": [
              "Waiting for W&B process to finish... <strong style=\"color:green\">(success).</strong>"
            ]
          },
          "metadata": {}
        },
        {
          "output_type": "display_data",
          "data": {
            "text/plain": [
              "<IPython.core.display.HTML object>"
            ],
            "text/html": [
              "<style>\n",
              "    table.wandb td:nth-child(1) { padding: 0 10px; text-align: left ; width: auto;} td:nth-child(2) {text-align: left ; width: 100%}\n",
              "    .wandb-row { display: flex; flex-direction: row; flex-wrap: wrap; justify-content: flex-start; width: 100% }\n",
              "    .wandb-col { display: flex; flex-direction: column; flex-basis: 100%; flex: 1; padding: 10px; }\n",
              "    </style>\n",
              "<div class=\"wandb-row\"><div class=\"wandb-col\"><h3>Run history:</h3><br/><table class=\"wandb\"><tr><td>batch train loss</td><td>█▄▃▂▂█▃▃▂▂▂▂▁▆▂▄▃▅▂▂▄▅▅▄▄▁▂▂▁▆▁▁▁▂▄▃▁▁▂▂</td></tr><tr><td>epoch</td><td>▁▃▆█</td></tr><tr><td>test f1</td><td>▁</td></tr><tr><td>train F1</td><td>▁▇██</td></tr><tr><td>train loss</td><td>█▂▁▁</td></tr><tr><td>val F1</td><td>▁█▆▅</td></tr><tr><td>val loss</td><td>█▂▁▂</td></tr></table><br/></div><div class=\"wandb-col\"><h3>Run summary:</h3><br/><table class=\"wandb\"><tr><td>batch train loss</td><td>1.35633</td></tr><tr><td>epoch</td><td>3</td></tr><tr><td>test f1</td><td>0.62528</td></tr><tr><td>train F1</td><td>0.83971</td></tr><tr><td>train loss</td><td>1.32059</td></tr><tr><td>val F1</td><td>0.58264</td></tr><tr><td>val loss</td><td>1.52901</td></tr></table><br/></div></div>"
            ]
          },
          "metadata": {}
        },
        {
          "output_type": "display_data",
          "data": {
            "text/plain": [
              "<IPython.core.display.HTML object>"
            ],
            "text/html": [
              " View run <strong style=\"color:#cdcd00\">elated-sweep-4</strong> at: <a href='https://wandb.ai/annette-mikhaylova/simple-multimodal-model/runs/owt9po22' target=\"_blank\">https://wandb.ai/annette-mikhaylova/simple-multimodal-model/runs/owt9po22</a><br/>Synced 4 W&B file(s), 0 media file(s), 0 artifact file(s) and 0 other file(s)"
            ]
          },
          "metadata": {}
        },
        {
          "output_type": "display_data",
          "data": {
            "text/plain": [
              "<IPython.core.display.HTML object>"
            ],
            "text/html": [
              "Find logs at: <code>./wandb/run-20230322_071016-owt9po22/logs</code>"
            ]
          },
          "metadata": {}
        },
        {
          "output_type": "stream",
          "name": "stderr",
          "text": [
            "\u001b[34m\u001b[1mwandb\u001b[0m: Agent Starting Run: 5a5b6con with config:\n",
            "\u001b[34m\u001b[1mwandb\u001b[0m: \tbatch_size: 4\n",
            "\u001b[34m\u001b[1mwandb\u001b[0m: \tepochs: 10\n",
            "\u001b[34m\u001b[1mwandb\u001b[0m: \tlr: 0.0001\n",
            "\u001b[34m\u001b[1mwandb\u001b[0m: \tseed: 13\n"
          ]
        },
        {
          "output_type": "display_data",
          "data": {
            "text/plain": [
              "<IPython.core.display.HTML object>"
            ],
            "text/html": [
              "Tracking run with wandb version 0.14.0"
            ]
          },
          "metadata": {}
        },
        {
          "output_type": "display_data",
          "data": {
            "text/plain": [
              "<IPython.core.display.HTML object>"
            ],
            "text/html": [
              "Run data is saved locally in <code>/content/wandb/run-20230322_071207-5a5b6con</code>"
            ]
          },
          "metadata": {}
        },
        {
          "output_type": "display_data",
          "data": {
            "text/plain": [
              "<IPython.core.display.HTML object>"
            ],
            "text/html": [
              "Syncing run <strong><a href='https://wandb.ai/annette-mikhaylova/simple-multimodal-model/runs/5a5b6con' target=\"_blank\">denim-sweep-5</a></strong> to <a href='https://wandb.ai/annette-mikhaylova/simple-multimodal-model' target=\"_blank\">Weights & Biases</a> (<a href='https://wandb.me/run' target=\"_blank\">docs</a>)<br/>Sweep page: <a href='https://wandb.ai/annette-mikhaylova/simple-multimodal-model/sweeps/j8a5507j' target=\"_blank\">https://wandb.ai/annette-mikhaylova/simple-multimodal-model/sweeps/j8a5507j</a>"
            ]
          },
          "metadata": {}
        },
        {
          "output_type": "display_data",
          "data": {
            "text/plain": [
              "<IPython.core.display.HTML object>"
            ],
            "text/html": [
              " View project at <a href='https://wandb.ai/annette-mikhaylova/simple-multimodal-model' target=\"_blank\">https://wandb.ai/annette-mikhaylova/simple-multimodal-model</a>"
            ]
          },
          "metadata": {}
        },
        {
          "output_type": "display_data",
          "data": {
            "text/plain": [
              "<IPython.core.display.HTML object>"
            ],
            "text/html": [
              " View sweep at <a href='https://wandb.ai/annette-mikhaylova/simple-multimodal-model/sweeps/j8a5507j' target=\"_blank\">https://wandb.ai/annette-mikhaylova/simple-multimodal-model/sweeps/j8a5507j</a>"
            ]
          },
          "metadata": {}
        },
        {
          "output_type": "display_data",
          "data": {
            "text/plain": [
              "<IPython.core.display.HTML object>"
            ],
            "text/html": [
              " View run at <a href='https://wandb.ai/annette-mikhaylova/simple-multimodal-model/runs/5a5b6con' target=\"_blank\">https://wandb.ai/annette-mikhaylova/simple-multimodal-model/runs/5a5b6con</a>"
            ]
          },
          "metadata": {}
        },
        {
          "output_type": "display_data",
          "data": {
            "text/plain": [
              "<IPython.core.display.HTML object>"
            ],
            "text/html": [
              "Waiting for W&B process to finish... <strong style=\"color:green\">(success).</strong>"
            ]
          },
          "metadata": {}
        },
        {
          "output_type": "display_data",
          "data": {
            "text/plain": [
              "<IPython.core.display.HTML object>"
            ],
            "text/html": [
              "<style>\n",
              "    table.wandb td:nth-child(1) { padding: 0 10px; text-align: left ; width: auto;} td:nth-child(2) {text-align: left ; width: 100%}\n",
              "    .wandb-row { display: flex; flex-direction: row; flex-wrap: wrap; justify-content: flex-start; width: 100% }\n",
              "    .wandb-col { display: flex; flex-direction: column; flex-basis: 100%; flex: 1; padding: 10px; }\n",
              "    </style>\n",
              "<div class=\"wandb-row\"><div class=\"wandb-col\"><h3>Run history:</h3><br/><table class=\"wandb\"><tr><td>batch train loss</td><td>█▆▄▄▃▄▃▂▃▂▂▅▂▄▅▃▃▃▂▃▁▂▂▃▂▃▂▃▃▄▂▃▂▂▅▂▄▁▁▂</td></tr><tr><td>epoch</td><td>▁▂▃▃▄▅▆▆▇█</td></tr><tr><td>test f1</td><td>▁</td></tr><tr><td>train F1</td><td>▁▃▄▆▇▇████</td></tr><tr><td>train loss</td><td>█▄▃▃▂▂▁▁▁▁</td></tr><tr><td>val F1</td><td>▁▂▄▆▇█████</td></tr><tr><td>val loss</td><td>█▅▄▃▂▂▂▁▁▁</td></tr></table><br/></div><div class=\"wandb-col\"><h3>Run summary:</h3><br/><table class=\"wandb\"><tr><td>batch train loss</td><td>1.18157</td></tr><tr><td>epoch</td><td>9</td></tr><tr><td>test f1</td><td>0.61956</td></tr><tr><td>train F1</td><td>0.80753</td></tr><tr><td>train loss</td><td>1.36661</td></tr><tr><td>val F1</td><td>0.57834</td></tr><tr><td>val loss</td><td>1.5417</td></tr></table><br/></div></div>"
            ]
          },
          "metadata": {}
        },
        {
          "output_type": "display_data",
          "data": {
            "text/plain": [
              "<IPython.core.display.HTML object>"
            ],
            "text/html": [
              " View run <strong style=\"color:#cdcd00\">denim-sweep-5</strong> at: <a href='https://wandb.ai/annette-mikhaylova/simple-multimodal-model/runs/5a5b6con' target=\"_blank\">https://wandb.ai/annette-mikhaylova/simple-multimodal-model/runs/5a5b6con</a><br/>Synced 4 W&B file(s), 0 media file(s), 0 artifact file(s) and 0 other file(s)"
            ]
          },
          "metadata": {}
        },
        {
          "output_type": "display_data",
          "data": {
            "text/plain": [
              "<IPython.core.display.HTML object>"
            ],
            "text/html": [
              "Find logs at: <code>./wandb/run-20230322_071207-5a5b6con/logs</code>"
            ]
          },
          "metadata": {}
        },
        {
          "output_type": "stream",
          "name": "stderr",
          "text": [
            "\u001b[34m\u001b[1mwandb\u001b[0m: Agent Starting Run: 0832r3yp with config:\n",
            "\u001b[34m\u001b[1mwandb\u001b[0m: \tbatch_size: 4\n",
            "\u001b[34m\u001b[1mwandb\u001b[0m: \tepochs: 10\n",
            "\u001b[34m\u001b[1mwandb\u001b[0m: \tlr: 0.0001\n",
            "\u001b[34m\u001b[1mwandb\u001b[0m: \tseed: 42\n"
          ]
        },
        {
          "output_type": "display_data",
          "data": {
            "text/plain": [
              "<IPython.core.display.HTML object>"
            ],
            "text/html": [
              "Tracking run with wandb version 0.14.0"
            ]
          },
          "metadata": {}
        },
        {
          "output_type": "display_data",
          "data": {
            "text/plain": [
              "<IPython.core.display.HTML object>"
            ],
            "text/html": [
              "Run data is saved locally in <code>/content/wandb/run-20230322_071518-0832r3yp</code>"
            ]
          },
          "metadata": {}
        },
        {
          "output_type": "display_data",
          "data": {
            "text/plain": [
              "<IPython.core.display.HTML object>"
            ],
            "text/html": [
              "Syncing run <strong><a href='https://wandb.ai/annette-mikhaylova/simple-multimodal-model/runs/0832r3yp' target=\"_blank\">vital-sweep-6</a></strong> to <a href='https://wandb.ai/annette-mikhaylova/simple-multimodal-model' target=\"_blank\">Weights & Biases</a> (<a href='https://wandb.me/run' target=\"_blank\">docs</a>)<br/>Sweep page: <a href='https://wandb.ai/annette-mikhaylova/simple-multimodal-model/sweeps/j8a5507j' target=\"_blank\">https://wandb.ai/annette-mikhaylova/simple-multimodal-model/sweeps/j8a5507j</a>"
            ]
          },
          "metadata": {}
        },
        {
          "output_type": "display_data",
          "data": {
            "text/plain": [
              "<IPython.core.display.HTML object>"
            ],
            "text/html": [
              " View project at <a href='https://wandb.ai/annette-mikhaylova/simple-multimodal-model' target=\"_blank\">https://wandb.ai/annette-mikhaylova/simple-multimodal-model</a>"
            ]
          },
          "metadata": {}
        },
        {
          "output_type": "display_data",
          "data": {
            "text/plain": [
              "<IPython.core.display.HTML object>"
            ],
            "text/html": [
              " View sweep at <a href='https://wandb.ai/annette-mikhaylova/simple-multimodal-model/sweeps/j8a5507j' target=\"_blank\">https://wandb.ai/annette-mikhaylova/simple-multimodal-model/sweeps/j8a5507j</a>"
            ]
          },
          "metadata": {}
        },
        {
          "output_type": "display_data",
          "data": {
            "text/plain": [
              "<IPython.core.display.HTML object>"
            ],
            "text/html": [
              " View run at <a href='https://wandb.ai/annette-mikhaylova/simple-multimodal-model/runs/0832r3yp' target=\"_blank\">https://wandb.ai/annette-mikhaylova/simple-multimodal-model/runs/0832r3yp</a>"
            ]
          },
          "metadata": {}
        },
        {
          "output_type": "display_data",
          "data": {
            "text/plain": [
              "<IPython.core.display.HTML object>"
            ],
            "text/html": [
              "Waiting for W&B process to finish... <strong style=\"color:green\">(success).</strong>"
            ]
          },
          "metadata": {}
        },
        {
          "output_type": "display_data",
          "data": {
            "text/plain": [
              "<IPython.core.display.HTML object>"
            ],
            "text/html": [
              "<style>\n",
              "    table.wandb td:nth-child(1) { padding: 0 10px; text-align: left ; width: auto;} td:nth-child(2) {text-align: left ; width: 100%}\n",
              "    .wandb-row { display: flex; flex-direction: row; flex-wrap: wrap; justify-content: flex-start; width: 100% }\n",
              "    .wandb-col { display: flex; flex-direction: column; flex-basis: 100%; flex: 1; padding: 10px; }\n",
              "    </style>\n",
              "<div class=\"wandb-row\"><div class=\"wandb-col\"><h3>Run history:</h3><br/><table class=\"wandb\"><tr><td>batch train loss</td><td>█▆▆██▂▄▃▆▆▂▃▂▃▄▄▄▅▅▂▃▄▁▂▁▅▂▄▄▄▆▃▃▅▁▄▁▂▁▄</td></tr><tr><td>epoch</td><td>▁▂▃▃▄▅▆▆▇█</td></tr><tr><td>test f1</td><td>▁</td></tr><tr><td>train F1</td><td>▁▃▅▇▇█████</td></tr><tr><td>train loss</td><td>█▅▃▂▂▂▁▁▁▁</td></tr><tr><td>val F1</td><td>▁▂▆▇█▇████</td></tr><tr><td>val loss</td><td>█▅▄▃▂▂▁▁▁▁</td></tr></table><br/></div><div class=\"wandb-col\"><h3>Run summary:</h3><br/><table class=\"wandb\"><tr><td>batch train loss</td><td>1.18194</td></tr><tr><td>epoch</td><td>9</td></tr><tr><td>test f1</td><td>0.62094</td></tr><tr><td>train F1</td><td>0.80934</td></tr><tr><td>train loss</td><td>1.36337</td></tr><tr><td>val F1</td><td>0.57924</td></tr><tr><td>val loss</td><td>1.53865</td></tr></table><br/></div></div>"
            ]
          },
          "metadata": {}
        },
        {
          "output_type": "display_data",
          "data": {
            "text/plain": [
              "<IPython.core.display.HTML object>"
            ],
            "text/html": [
              " View run <strong style=\"color:#cdcd00\">vital-sweep-6</strong> at: <a href='https://wandb.ai/annette-mikhaylova/simple-multimodal-model/runs/0832r3yp' target=\"_blank\">https://wandb.ai/annette-mikhaylova/simple-multimodal-model/runs/0832r3yp</a><br/>Synced 4 W&B file(s), 0 media file(s), 0 artifact file(s) and 0 other file(s)"
            ]
          },
          "metadata": {}
        },
        {
          "output_type": "display_data",
          "data": {
            "text/plain": [
              "<IPython.core.display.HTML object>"
            ],
            "text/html": [
              "Find logs at: <code>./wandb/run-20230322_071518-0832r3yp/logs</code>"
            ]
          },
          "metadata": {}
        },
        {
          "output_type": "stream",
          "name": "stderr",
          "text": [
            "\u001b[34m\u001b[1mwandb\u001b[0m: Agent Starting Run: tq70ujzh with config:\n",
            "\u001b[34m\u001b[1mwandb\u001b[0m: \tbatch_size: 4\n",
            "\u001b[34m\u001b[1mwandb\u001b[0m: \tepochs: 10\n",
            "\u001b[34m\u001b[1mwandb\u001b[0m: \tlr: 0.0001\n",
            "\u001b[34m\u001b[1mwandb\u001b[0m: \tseed: 100\n"
          ]
        },
        {
          "output_type": "display_data",
          "data": {
            "text/plain": [
              "<IPython.core.display.HTML object>"
            ],
            "text/html": [
              "Tracking run with wandb version 0.14.0"
            ]
          },
          "metadata": {}
        },
        {
          "output_type": "display_data",
          "data": {
            "text/plain": [
              "<IPython.core.display.HTML object>"
            ],
            "text/html": [
              "Run data is saved locally in <code>/content/wandb/run-20230322_071837-tq70ujzh</code>"
            ]
          },
          "metadata": {}
        },
        {
          "output_type": "display_data",
          "data": {
            "text/plain": [
              "<IPython.core.display.HTML object>"
            ],
            "text/html": [
              "Syncing run <strong><a href='https://wandb.ai/annette-mikhaylova/simple-multimodal-model/runs/tq70ujzh' target=\"_blank\">fearless-sweep-7</a></strong> to <a href='https://wandb.ai/annette-mikhaylova/simple-multimodal-model' target=\"_blank\">Weights & Biases</a> (<a href='https://wandb.me/run' target=\"_blank\">docs</a>)<br/>Sweep page: <a href='https://wandb.ai/annette-mikhaylova/simple-multimodal-model/sweeps/j8a5507j' target=\"_blank\">https://wandb.ai/annette-mikhaylova/simple-multimodal-model/sweeps/j8a5507j</a>"
            ]
          },
          "metadata": {}
        },
        {
          "output_type": "display_data",
          "data": {
            "text/plain": [
              "<IPython.core.display.HTML object>"
            ],
            "text/html": [
              " View project at <a href='https://wandb.ai/annette-mikhaylova/simple-multimodal-model' target=\"_blank\">https://wandb.ai/annette-mikhaylova/simple-multimodal-model</a>"
            ]
          },
          "metadata": {}
        },
        {
          "output_type": "display_data",
          "data": {
            "text/plain": [
              "<IPython.core.display.HTML object>"
            ],
            "text/html": [
              " View sweep at <a href='https://wandb.ai/annette-mikhaylova/simple-multimodal-model/sweeps/j8a5507j' target=\"_blank\">https://wandb.ai/annette-mikhaylova/simple-multimodal-model/sweeps/j8a5507j</a>"
            ]
          },
          "metadata": {}
        },
        {
          "output_type": "display_data",
          "data": {
            "text/plain": [
              "<IPython.core.display.HTML object>"
            ],
            "text/html": [
              " View run at <a href='https://wandb.ai/annette-mikhaylova/simple-multimodal-model/runs/tq70ujzh' target=\"_blank\">https://wandb.ai/annette-mikhaylova/simple-multimodal-model/runs/tq70ujzh</a>"
            ]
          },
          "metadata": {}
        },
        {
          "output_type": "display_data",
          "data": {
            "text/plain": [
              "<IPython.core.display.HTML object>"
            ],
            "text/html": [
              "Waiting for W&B process to finish... <strong style=\"color:green\">(success).</strong>"
            ]
          },
          "metadata": {}
        },
        {
          "output_type": "display_data",
          "data": {
            "text/plain": [
              "<IPython.core.display.HTML object>"
            ],
            "text/html": [
              "<style>\n",
              "    table.wandb td:nth-child(1) { padding: 0 10px; text-align: left ; width: auto;} td:nth-child(2) {text-align: left ; width: 100%}\n",
              "    .wandb-row { display: flex; flex-direction: row; flex-wrap: wrap; justify-content: flex-start; width: 100% }\n",
              "    .wandb-col { display: flex; flex-direction: column; flex-basis: 100%; flex: 1; padding: 10px; }\n",
              "    </style>\n",
              "<div class=\"wandb-row\"><div class=\"wandb-col\"><h3>Run history:</h3><br/><table class=\"wandb\"><tr><td>batch train loss</td><td>█▆▇▇▄▆▅▃▃▂▁▆▂▃▃▃▂▂▂▃▅▄▃▄▂▃▃▃▃▃▂▂▁▂▂▂▁▃▃▂</td></tr><tr><td>epoch</td><td>▁▂▃▃▄▅▆▆▇█</td></tr><tr><td>test f1</td><td>▁</td></tr><tr><td>train F1</td><td>▁▂▄▆▇█████</td></tr><tr><td>train loss</td><td>█▅▄▃▂▂▂▁▁▁</td></tr><tr><td>val F1</td><td>▁▂▅▆▇█████</td></tr><tr><td>val loss</td><td>█▅▄▃▂▂▂▁▁▁</td></tr></table><br/></div><div class=\"wandb-col\"><h3>Run summary:</h3><br/><table class=\"wandb\"><tr><td>batch train loss</td><td>1.26746</td></tr><tr><td>epoch</td><td>9</td></tr><tr><td>test f1</td><td>0.61736</td></tr><tr><td>train F1</td><td>0.80736</td></tr><tr><td>train loss</td><td>1.36428</td></tr><tr><td>val F1</td><td>0.57599</td></tr><tr><td>val loss</td><td>1.5458</td></tr></table><br/></div></div>"
            ]
          },
          "metadata": {}
        },
        {
          "output_type": "display_data",
          "data": {
            "text/plain": [
              "<IPython.core.display.HTML object>"
            ],
            "text/html": [
              " View run <strong style=\"color:#cdcd00\">fearless-sweep-7</strong> at: <a href='https://wandb.ai/annette-mikhaylova/simple-multimodal-model/runs/tq70ujzh' target=\"_blank\">https://wandb.ai/annette-mikhaylova/simple-multimodal-model/runs/tq70ujzh</a><br/>Synced 4 W&B file(s), 0 media file(s), 0 artifact file(s) and 0 other file(s)"
            ]
          },
          "metadata": {}
        },
        {
          "output_type": "display_data",
          "data": {
            "text/plain": [
              "<IPython.core.display.HTML object>"
            ],
            "text/html": [
              "Find logs at: <code>./wandb/run-20230322_071837-tq70ujzh/logs</code>"
            ]
          },
          "metadata": {}
        },
        {
          "output_type": "stream",
          "name": "stderr",
          "text": [
            "\u001b[34m\u001b[1mwandb\u001b[0m: Agent Starting Run: ydiqw3dc with config:\n",
            "\u001b[34m\u001b[1mwandb\u001b[0m: \tbatch_size: 4\n",
            "\u001b[34m\u001b[1mwandb\u001b[0m: \tepochs: 10\n",
            "\u001b[34m\u001b[1mwandb\u001b[0m: \tlr: 0.0001\n",
            "\u001b[34m\u001b[1mwandb\u001b[0m: \tseed: 47\n"
          ]
        },
        {
          "output_type": "display_data",
          "data": {
            "text/plain": [
              "<IPython.core.display.HTML object>"
            ],
            "text/html": [
              "Tracking run with wandb version 0.14.0"
            ]
          },
          "metadata": {}
        },
        {
          "output_type": "display_data",
          "data": {
            "text/plain": [
              "<IPython.core.display.HTML object>"
            ],
            "text/html": [
              "Run data is saved locally in <code>/content/wandb/run-20230322_072201-ydiqw3dc</code>"
            ]
          },
          "metadata": {}
        },
        {
          "output_type": "display_data",
          "data": {
            "text/plain": [
              "<IPython.core.display.HTML object>"
            ],
            "text/html": [
              "Syncing run <strong><a href='https://wandb.ai/annette-mikhaylova/simple-multimodal-model/runs/ydiqw3dc' target=\"_blank\">sleek-sweep-8</a></strong> to <a href='https://wandb.ai/annette-mikhaylova/simple-multimodal-model' target=\"_blank\">Weights & Biases</a> (<a href='https://wandb.me/run' target=\"_blank\">docs</a>)<br/>Sweep page: <a href='https://wandb.ai/annette-mikhaylova/simple-multimodal-model/sweeps/j8a5507j' target=\"_blank\">https://wandb.ai/annette-mikhaylova/simple-multimodal-model/sweeps/j8a5507j</a>"
            ]
          },
          "metadata": {}
        },
        {
          "output_type": "display_data",
          "data": {
            "text/plain": [
              "<IPython.core.display.HTML object>"
            ],
            "text/html": [
              " View project at <a href='https://wandb.ai/annette-mikhaylova/simple-multimodal-model' target=\"_blank\">https://wandb.ai/annette-mikhaylova/simple-multimodal-model</a>"
            ]
          },
          "metadata": {}
        },
        {
          "output_type": "display_data",
          "data": {
            "text/plain": [
              "<IPython.core.display.HTML object>"
            ],
            "text/html": [
              " View sweep at <a href='https://wandb.ai/annette-mikhaylova/simple-multimodal-model/sweeps/j8a5507j' target=\"_blank\">https://wandb.ai/annette-mikhaylova/simple-multimodal-model/sweeps/j8a5507j</a>"
            ]
          },
          "metadata": {}
        },
        {
          "output_type": "display_data",
          "data": {
            "text/plain": [
              "<IPython.core.display.HTML object>"
            ],
            "text/html": [
              " View run at <a href='https://wandb.ai/annette-mikhaylova/simple-multimodal-model/runs/ydiqw3dc' target=\"_blank\">https://wandb.ai/annette-mikhaylova/simple-multimodal-model/runs/ydiqw3dc</a>"
            ]
          },
          "metadata": {}
        },
        {
          "output_type": "display_data",
          "data": {
            "text/plain": [
              "<IPython.core.display.HTML object>"
            ],
            "text/html": [
              "Waiting for W&B process to finish... <strong style=\"color:green\">(success).</strong>"
            ]
          },
          "metadata": {}
        },
        {
          "output_type": "display_data",
          "data": {
            "text/plain": [
              "<IPython.core.display.HTML object>"
            ],
            "text/html": [
              "<style>\n",
              "    table.wandb td:nth-child(1) { padding: 0 10px; text-align: left ; width: auto;} td:nth-child(2) {text-align: left ; width: 100%}\n",
              "    .wandb-row { display: flex; flex-direction: row; flex-wrap: wrap; justify-content: flex-start; width: 100% }\n",
              "    .wandb-col { display: flex; flex-direction: column; flex-basis: 100%; flex: 1; padding: 10px; }\n",
              "    </style>\n",
              "<div class=\"wandb-row\"><div class=\"wandb-col\"><h3>Run history:</h3><br/><table class=\"wandb\"><tr><td>batch train loss</td><td>█▇▅▆▄▄▃▂▆▇▄▂▄▄▃▃▂▃▂▃▅▃▂▃▂▃▆▄▃▄▄▂▅▄▂▂▃▂▃▁</td></tr><tr><td>epoch</td><td>▁▂▃▄▅▅▆▇█</td></tr><tr><td>test f1</td><td>▁</td></tr><tr><td>train F1</td><td>▁▃▅▇▇████</td></tr><tr><td>train loss</td><td>█▅▃▃▂▂▁▁▁</td></tr><tr><td>val F1</td><td>▁▃▆▆▇▇███</td></tr><tr><td>val loss</td><td>█▅▄▃▂▂▁▁▁</td></tr></table><br/></div><div class=\"wandb-col\"><h3>Run summary:</h3><br/><table class=\"wandb\"><tr><td>batch train loss</td><td>1.56528</td></tr><tr><td>epoch</td><td>8</td></tr><tr><td>test f1</td><td>0.61496</td></tr><tr><td>train F1</td><td>0.80116</td></tr><tr><td>train loss</td><td>1.37508</td></tr><tr><td>val F1</td><td>0.58206</td></tr><tr><td>val loss</td><td>1.54712</td></tr></table><br/></div></div>"
            ]
          },
          "metadata": {}
        },
        {
          "output_type": "display_data",
          "data": {
            "text/plain": [
              "<IPython.core.display.HTML object>"
            ],
            "text/html": [
              " View run <strong style=\"color:#cdcd00\">sleek-sweep-8</strong> at: <a href='https://wandb.ai/annette-mikhaylova/simple-multimodal-model/runs/ydiqw3dc' target=\"_blank\">https://wandb.ai/annette-mikhaylova/simple-multimodal-model/runs/ydiqw3dc</a><br/>Synced 4 W&B file(s), 0 media file(s), 0 artifact file(s) and 0 other file(s)"
            ]
          },
          "metadata": {}
        },
        {
          "output_type": "display_data",
          "data": {
            "text/plain": [
              "<IPython.core.display.HTML object>"
            ],
            "text/html": [
              "Find logs at: <code>./wandb/run-20230322_072201-ydiqw3dc/logs</code>"
            ]
          },
          "metadata": {}
        },
        {
          "output_type": "stream",
          "name": "stderr",
          "text": [
            "\u001b[34m\u001b[1mwandb\u001b[0m: Sweep Agent: Waiting for job.\n",
            "\u001b[34m\u001b[1mwandb\u001b[0m: Sweep Agent: Exiting.\n"
          ]
        }
      ]
    }
  ]
}